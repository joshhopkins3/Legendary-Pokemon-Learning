{
 "cells": [
  {
   "cell_type": "code",
   "execution_count": 1,
   "metadata": {},
   "outputs": [],
   "source": [
    "import matplotlib.pyplot as plt\n",
    "from sklearn.neighbors import KNeighborsClassifier\n",
    "import pandas as pd\n",
    "import os\n",
    "import sqlite3\n",
    "import json"
   ]
  },
  {
   "cell_type": "code",
   "execution_count": 2,
   "metadata": {},
   "outputs": [
    {
     "data": {
      "text/html": [
       "<div>\n",
       "<style scoped>\n",
       "    .dataframe tbody tr th:only-of-type {\n",
       "        vertical-align: middle;\n",
       "    }\n",
       "\n",
       "    .dataframe tbody tr th {\n",
       "        vertical-align: top;\n",
       "    }\n",
       "\n",
       "    .dataframe thead th {\n",
       "        text-align: right;\n",
       "    }\n",
       "</style>\n",
       "<table border=\"1\" class=\"dataframe\">\n",
       "  <thead>\n",
       "    <tr style=\"text-align: right;\">\n",
       "      <th></th>\n",
       "      <th>NUMBER</th>\n",
       "      <th>CODE</th>\n",
       "      <th>SERIAL</th>\n",
       "      <th>NAME</th>\n",
       "      <th>TYPE1</th>\n",
       "      <th>TYPE2</th>\n",
       "      <th>COLOR</th>\n",
       "      <th>ABILITY1</th>\n",
       "      <th>ABILITY2</th>\n",
       "      <th>ABILITY_HIDDEN</th>\n",
       "      <th>...</th>\n",
       "      <th>HEIGHT</th>\n",
       "      <th>WEIGHT</th>\n",
       "      <th>HP</th>\n",
       "      <th>ATK</th>\n",
       "      <th>DEF</th>\n",
       "      <th>SP_ATK</th>\n",
       "      <th>SP_DEF</th>\n",
       "      <th>SPD</th>\n",
       "      <th>TOTAL</th>\n",
       "      <th>CAPTURE_RATE</th>\n",
       "    </tr>\n",
       "  </thead>\n",
       "  <tbody>\n",
       "    <tr>\n",
       "      <th>0</th>\n",
       "      <td>1</td>\n",
       "      <td>1</td>\n",
       "      <td>11</td>\n",
       "      <td>Bulbasaur</td>\n",
       "      <td>Grass</td>\n",
       "      <td>Poison</td>\n",
       "      <td>Green</td>\n",
       "      <td>Overgrow</td>\n",
       "      <td>None</td>\n",
       "      <td>Chrolophyll</td>\n",
       "      <td>...</td>\n",
       "      <td>0.7</td>\n",
       "      <td>6.9</td>\n",
       "      <td>45</td>\n",
       "      <td>49</td>\n",
       "      <td>49</td>\n",
       "      <td>65</td>\n",
       "      <td>65</td>\n",
       "      <td>45</td>\n",
       "      <td>318</td>\n",
       "      <td>45</td>\n",
       "    </tr>\n",
       "    <tr>\n",
       "      <th>1</th>\n",
       "      <td>2</td>\n",
       "      <td>1</td>\n",
       "      <td>21</td>\n",
       "      <td>Ivysaur</td>\n",
       "      <td>Grass</td>\n",
       "      <td>Poison</td>\n",
       "      <td>Green</td>\n",
       "      <td>Overgrow</td>\n",
       "      <td>None</td>\n",
       "      <td>Chrolophyll</td>\n",
       "      <td>...</td>\n",
       "      <td>1.0</td>\n",
       "      <td>13.0</td>\n",
       "      <td>60</td>\n",
       "      <td>62</td>\n",
       "      <td>63</td>\n",
       "      <td>80</td>\n",
       "      <td>80</td>\n",
       "      <td>60</td>\n",
       "      <td>405</td>\n",
       "      <td>45</td>\n",
       "    </tr>\n",
       "    <tr>\n",
       "      <th>2</th>\n",
       "      <td>3</td>\n",
       "      <td>1</td>\n",
       "      <td>31</td>\n",
       "      <td>Venusaur</td>\n",
       "      <td>Grass</td>\n",
       "      <td>Poison</td>\n",
       "      <td>Green</td>\n",
       "      <td>Overgrow</td>\n",
       "      <td>None</td>\n",
       "      <td>Chrolophyll</td>\n",
       "      <td>...</td>\n",
       "      <td>2.0</td>\n",
       "      <td>100.0</td>\n",
       "      <td>80</td>\n",
       "      <td>82</td>\n",
       "      <td>83</td>\n",
       "      <td>100</td>\n",
       "      <td>100</td>\n",
       "      <td>80</td>\n",
       "      <td>525</td>\n",
       "      <td>45</td>\n",
       "    </tr>\n",
       "    <tr>\n",
       "      <th>3</th>\n",
       "      <td>3</td>\n",
       "      <td>2</td>\n",
       "      <td>32</td>\n",
       "      <td>Mega Venusaur</td>\n",
       "      <td>Grass</td>\n",
       "      <td>Poison</td>\n",
       "      <td>Green</td>\n",
       "      <td>Thick Fat</td>\n",
       "      <td>None</td>\n",
       "      <td>None</td>\n",
       "      <td>...</td>\n",
       "      <td>2.4</td>\n",
       "      <td>155.5</td>\n",
       "      <td>80</td>\n",
       "      <td>100</td>\n",
       "      <td>123</td>\n",
       "      <td>122</td>\n",
       "      <td>120</td>\n",
       "      <td>80</td>\n",
       "      <td>625</td>\n",
       "      <td>45</td>\n",
       "    </tr>\n",
       "    <tr>\n",
       "      <th>4</th>\n",
       "      <td>4</td>\n",
       "      <td>1</td>\n",
       "      <td>41</td>\n",
       "      <td>Charmander</td>\n",
       "      <td>Fire</td>\n",
       "      <td>None</td>\n",
       "      <td>Red</td>\n",
       "      <td>Blaze</td>\n",
       "      <td>None</td>\n",
       "      <td>Solar Power</td>\n",
       "      <td>...</td>\n",
       "      <td>0.6</td>\n",
       "      <td>8.5</td>\n",
       "      <td>39</td>\n",
       "      <td>52</td>\n",
       "      <td>43</td>\n",
       "      <td>60</td>\n",
       "      <td>50</td>\n",
       "      <td>65</td>\n",
       "      <td>309</td>\n",
       "      <td>45</td>\n",
       "    </tr>\n",
       "  </tbody>\n",
       "</table>\n",
       "<p>5 rows × 22 columns</p>\n",
       "</div>"
      ],
      "text/plain": [
       "   NUMBER  CODE  SERIAL           NAME  TYPE1   TYPE2  COLOR   ABILITY1  \\\n",
       "0       1     1      11      Bulbasaur  Grass  Poison  Green   Overgrow   \n",
       "1       2     1      21        Ivysaur  Grass  Poison  Green   Overgrow   \n",
       "2       3     1      31       Venusaur  Grass  Poison  Green   Overgrow   \n",
       "3       3     2      32  Mega Venusaur  Grass  Poison  Green  Thick Fat   \n",
       "4       4     1      41     Charmander   Fire    None    Red      Blaze   \n",
       "\n",
       "  ABILITY2 ABILITY_HIDDEN  ...  HEIGHT  WEIGHT  HP  ATK  DEF  SP_ATK  SP_DEF  \\\n",
       "0     None    Chrolophyll  ...     0.7     6.9  45   49   49      65      65   \n",
       "1     None    Chrolophyll  ...     1.0    13.0  60   62   63      80      80   \n",
       "2     None    Chrolophyll  ...     2.0   100.0  80   82   83     100     100   \n",
       "3     None           None  ...     2.4   155.5  80  100  123     122     120   \n",
       "4     None    Solar Power  ...     0.6     8.5  39   52   43      60      50   \n",
       "\n",
       "   SPD  TOTAL  CAPTURE_RATE  \n",
       "0   45    318            45  \n",
       "1   60    405            45  \n",
       "2   80    525            45  \n",
       "3   80    625            45  \n",
       "4   65    309            45  \n",
       "\n",
       "[5 rows x 22 columns]"
      ]
     },
     "execution_count": 2,
     "metadata": {},
     "output_type": "execute_result"
    }
   ],
   "source": [
    "# Read sqlite query results into a pandas DataFrame\n",
    "con = sqlite3.connect(\"../Data-and-DBs/pokedex.db\")\n",
    "\n",
    "cursor = con.cursor()\n",
    "cursor.execute('DROP table IF EXISTS knn_results')\n",
    "\n",
    "train_df = pd.read_sql_query(\"SELECT * from gens_1_to_6\", con)\n",
    "\n",
    "# Verify that result of SQL query is stored in the dataframe\n",
    "train_df.head()"
   ]
  },
  {
   "cell_type": "code",
   "execution_count": 3,
   "metadata": {},
   "outputs": [],
   "source": [
    "from sklearn.preprocessing import LabelEncoder\n",
    "#encoding the training data\n",
    "le = LabelEncoder()\n",
    "encoded_training = train_df[train_df.columns[:]].apply(le.fit_transform)"
   ]
  },
  {
   "cell_type": "code",
   "execution_count": 4,
   "metadata": {},
   "outputs": [],
   "source": [
    "y = encoded_training[\"LEGENDARY_FLAG\"]\n",
    "target_names = [\"Non-Legendary\", \"Legendary\"]"
   ]
  },
  {
   "cell_type": "code",
   "execution_count": 5,
   "metadata": {},
   "outputs": [
    {
     "data": {
      "text/html": [
       "<div>\n",
       "<style scoped>\n",
       "    .dataframe tbody tr th:only-of-type {\n",
       "        vertical-align: middle;\n",
       "    }\n",
       "\n",
       "    .dataframe tbody tr th {\n",
       "        vertical-align: top;\n",
       "    }\n",
       "\n",
       "    .dataframe thead th {\n",
       "        text-align: right;\n",
       "    }\n",
       "</style>\n",
       "<table border=\"1\" class=\"dataframe\">\n",
       "  <thead>\n",
       "    <tr style=\"text-align: right;\">\n",
       "      <th></th>\n",
       "      <th>TYPE1</th>\n",
       "      <th>TYPE2</th>\n",
       "      <th>ABILITY1</th>\n",
       "      <th>ABILITY2</th>\n",
       "      <th>ABILITY_HIDDEN</th>\n",
       "      <th>HP</th>\n",
       "      <th>ATK</th>\n",
       "      <th>DEF</th>\n",
       "      <th>SP_ATK</th>\n",
       "      <th>SP_DEF</th>\n",
       "      <th>SPD</th>\n",
       "      <th>TOTAL</th>\n",
       "      <th>CAPTURE_RATE</th>\n",
       "    </tr>\n",
       "  </thead>\n",
       "  <tbody>\n",
       "    <tr>\n",
       "      <th>0</th>\n",
       "      <td>9</td>\n",
       "      <td>14</td>\n",
       "      <td>82</td>\n",
       "      <td>53</td>\n",
       "      <td>11</td>\n",
       "      <td>17</td>\n",
       "      <td>24</td>\n",
       "      <td>23</td>\n",
       "      <td>41</td>\n",
       "      <td>37</td>\n",
       "      <td>24</td>\n",
       "      <td>57</td>\n",
       "      <td>5</td>\n",
       "    </tr>\n",
       "    <tr>\n",
       "      <th>1</th>\n",
       "      <td>9</td>\n",
       "      <td>14</td>\n",
       "      <td>82</td>\n",
       "      <td>53</td>\n",
       "      <td>11</td>\n",
       "      <td>31</td>\n",
       "      <td>37</td>\n",
       "      <td>37</td>\n",
       "      <td>55</td>\n",
       "      <td>50</td>\n",
       "      <td>38</td>\n",
       "      <td>94</td>\n",
       "      <td>5</td>\n",
       "    </tr>\n",
       "    <tr>\n",
       "      <th>2</th>\n",
       "      <td>9</td>\n",
       "      <td>14</td>\n",
       "      <td>82</td>\n",
       "      <td>53</td>\n",
       "      <td>11</td>\n",
       "      <td>51</td>\n",
       "      <td>57</td>\n",
       "      <td>55</td>\n",
       "      <td>71</td>\n",
       "      <td>66</td>\n",
       "      <td>58</td>\n",
       "      <td>164</td>\n",
       "      <td>5</td>\n",
       "    </tr>\n",
       "    <tr>\n",
       "      <th>3</th>\n",
       "      <td>9</td>\n",
       "      <td>14</td>\n",
       "      <td>138</td>\n",
       "      <td>53</td>\n",
       "      <td>70</td>\n",
       "      <td>51</td>\n",
       "      <td>73</td>\n",
       "      <td>86</td>\n",
       "      <td>86</td>\n",
       "      <td>77</td>\n",
       "      <td>58</td>\n",
       "      <td>187</td>\n",
       "      <td>5</td>\n",
       "    </tr>\n",
       "    <tr>\n",
       "      <th>4</th>\n",
       "      <td>6</td>\n",
       "      <td>12</td>\n",
       "      <td>9</td>\n",
       "      <td>53</td>\n",
       "      <td>107</td>\n",
       "      <td>11</td>\n",
       "      <td>27</td>\n",
       "      <td>18</td>\n",
       "      <td>36</td>\n",
       "      <td>22</td>\n",
       "      <td>43</td>\n",
       "      <td>51</td>\n",
       "      <td>5</td>\n",
       "    </tr>\n",
       "  </tbody>\n",
       "</table>\n",
       "</div>"
      ],
      "text/plain": [
       "   TYPE1  TYPE2  ABILITY1  ABILITY2  ABILITY_HIDDEN  HP  ATK  DEF  SP_ATK  \\\n",
       "0      9     14        82        53              11  17   24   23      41   \n",
       "1      9     14        82        53              11  31   37   37      55   \n",
       "2      9     14        82        53              11  51   57   55      71   \n",
       "3      9     14       138        53              70  51   73   86      86   \n",
       "4      6     12         9        53             107  11   27   18      36   \n",
       "\n",
       "   SP_DEF  SPD  TOTAL  CAPTURE_RATE  \n",
       "0      37   24     57             5  \n",
       "1      50   38     94             5  \n",
       "2      66   58    164             5  \n",
       "3      77   58    187             5  \n",
       "4      22   43     51             5  "
      ]
     },
     "execution_count": 5,
     "metadata": {},
     "output_type": "execute_result"
    }
   ],
   "source": [
    "X = encoded_training.drop([\"NUMBER\", \"CODE\", \"SERIAL\", \"NAME\", \"COLOR\", \"GENERATION\", \"HEIGHT\", \"WEIGHT\", \"LEGENDARY_FLAG\"], axis=1)\n",
    "X.head()"
   ]
  },
  {
   "cell_type": "code",
   "execution_count": 6,
   "metadata": {},
   "outputs": [],
   "source": [
    "#call all entries from the gen7 and gen_8 table in the db\n",
    "test_1_df = pd.read_sql('SELECT * FROM gen_7', con)\n",
    "test_2_df = pd.read_sql('SELECT * FROM gen_8', con)"
   ]
  },
  {
   "cell_type": "code",
   "execution_count": 7,
   "metadata": {},
   "outputs": [],
   "source": [
    "#encoding the test 1 & 2 data \n",
    "encoded_test_1 = test_1_df[test_1_df.columns[:]].apply(le.fit_transform)\n",
    "encoded_test_2 = test_2_df[test_2_df.columns[:]].apply(le.fit_transform)"
   ]
  },
  {
   "cell_type": "code",
   "execution_count": 8,
   "metadata": {},
   "outputs": [],
   "source": [
    "#pull necessary info from the gen_7 and gen_8 testing dfs to create test data\n",
    "y_test_1 = encoded_test_1[\"LEGENDARY_FLAG\"]\n",
    "target_names = [\"Non-Legendary\", \"Legendary\"]\n",
    "\n",
    "y_test_2 = encoded_test_2[\"LEGENDARY_FLAG\"]\n",
    "target_names = [\"Non-Legendary\", \"Legendary\"]"
   ]
  },
  {
   "cell_type": "code",
   "execution_count": 9,
   "metadata": {},
   "outputs": [],
   "source": [
    "X_test_1 = encoded_test_1.drop([\"NUMBER\", \"CODE\", \"SERIAL\", \"NAME\", \"COLOR\", \"GENERATION\", \"HEIGHT\", \"WEIGHT\", \"LEGENDARY_FLAG\"], axis=1)\n",
    "X_test_2 = encoded_test_2.drop([\"NUMBER\", \"CODE\", \"SERIAL\", \"NAME\", \"COLOR\", \"GENERATION\", \"HEIGHT\", \"WEIGHT\", \"LEGENDARY_FLAG\"], axis=1)"
   ]
  },
  {
   "cell_type": "code",
   "execution_count": 10,
   "metadata": {},
   "outputs": [],
   "source": [
    "from sklearn.preprocessing import StandardScaler\n",
    "\n",
    "# Create a StandardScater model and fit it to the training data\n",
    "\n",
    "X_scaler = StandardScaler().fit(X)"
   ]
  },
  {
   "cell_type": "code",
   "execution_count": 11,
   "metadata": {},
   "outputs": [],
   "source": [
    "# Transform the training and testing data using the X_scaler and y_scaler models\n",
    "\n",
    "X_train_scaled = X_scaler.transform(X)\n",
    "X_test_1_scaled = X_scaler.transform(X_test_1)\n",
    "X_test_2_scaled = X_scaler.transform(X_test_2)"
   ]
  },
  {
   "cell_type": "code",
   "execution_count": 12,
   "metadata": {
    "scrolled": true
   },
   "outputs": [
    {
     "name": "stdout",
     "output_type": "stream",
     "text": [
      "k: 1, Train/Test 1 Score: 1.000/0.737\n",
      "k: 1, Train/Test 2 Score: 1.000/0.838\n",
      "k: 3, Train/Test 1 Score: 0.967/0.737\n",
      "k: 3, Train/Test 2 Score: 0.967/0.838\n",
      "k: 5, Train/Test 1 Score: 0.965/0.737\n",
      "k: 5, Train/Test 2 Score: 0.965/0.838\n",
      "k: 7, Train/Test 1 Score: 0.965/0.737\n",
      "k: 7, Train/Test 2 Score: 0.965/0.838\n",
      "k: 9, Train/Test 1 Score: 0.963/0.737\n",
      "k: 9, Train/Test 2 Score: 0.963/0.838\n",
      "k: 11, Train/Test 1 Score: 0.965/0.737\n",
      "k: 11, Train/Test 2 Score: 0.965/0.838\n",
      "k: 13, Train/Test 1 Score: 0.963/0.737\n",
      "k: 13, Train/Test 2 Score: 0.963/0.838\n",
      "k: 15, Train/Test 1 Score: 0.963/0.737\n",
      "k: 15, Train/Test 2 Score: 0.963/0.838\n",
      "k: 17, Train/Test 1 Score: 0.957/0.737\n",
      "k: 17, Train/Test 2 Score: 0.957/0.838\n",
      "k: 19, Train/Test 1 Score: 0.958/0.737\n",
      "k: 19, Train/Test 2 Score: 0.958/0.838\n"
     ]
    },
    {
     "data": {
      "image/png": "[encoded data removed]",
      "text/plain": [
       "<Figure size 432x288 with 1 Axes>"
      ]
     },
     "metadata": {
      "needs_background": "light"
     },
     "output_type": "display_data"
    }
   ],
   "source": [
    "# Loop through different k values to see which has the highest accuracy\n",
    "# Note: We only use odd numbers because we don't want any ties\n",
    "train_scores = []\n",
    "test_1_scores = []\n",
    "test_2_scores = []\n",
    "for k in range(1, 20, 2):\n",
    "    knn = KNeighborsClassifier(n_neighbors=k)\n",
    "    knn.fit(X_train_scaled, y)\n",
    "    train_score = knn.score(X_train_scaled, y)\n",
    "    test_1_score = knn.score(X_test_1_scaled, y_test_1)\n",
    "    test_2_score = knn.score(X_test_2_scaled, y_test_2)\n",
    "    train_scores.append(train_score)\n",
    "    test_1_scores.append(test_1_score)\n",
    "    test_2_scores.append(test_2_score)\n",
    "    print(f\"k: {k}, Train/Test 1 Score: {train_score:.3f}/{test_1_score:.3f}\")\n",
    "    print(f\"k: {k}, Train/Test 2 Score: {train_score:.3f}/{test_2_score:.3f}\")\n",
    "    \n",
    "    \n",
    "plt.plot(range(1, 20, 2), train_scores, marker='o')\n",
    "plt.plot(range(1, 20, 2), test_1_scores, marker=\"x\")\n",
    "plt.plot(range(1, 20, 2), test_2_scores, marker=\"^\")\n",
    "plt.xlabel(\"k neighbors\")\n",
    "plt.ylabel(\"Testing accuracy Score\")\n",
    "plt.show()"
   ]
  },
  {
   "cell_type": "code",
   "execution_count": 13,
   "metadata": {},
   "outputs": [
    {
     "data": {
      "text/plain": [
       "KNeighborsClassifier(n_neighbors=11)"
      ]
     },
     "execution_count": 13,
     "metadata": {},
     "output_type": "execute_result"
    }
   ],
   "source": [
    "# Note that k: 13 seems to be the best choice for this dataset\n",
    "knn = KNeighborsClassifier(n_neighbors=11)\n",
    "knn.fit(X_train_scaled, y)"
   ]
  },
  {
   "cell_type": "code",
   "execution_count": 14,
   "metadata": {},
   "outputs": [
    {
     "name": "stdout",
     "output_type": "stream",
     "text": [
      "k=11 Gen 7 Test Acc:  0.7372881355932204\n",
      "k=11 Gen 8 Test Acc:  0.8376068376068376\n"
     ]
    }
   ],
   "source": [
    "#get accuracy scores\n",
    "gen_7_score = knn.score(X_test_1_scaled, y_test_1)\n",
    "gen_8_score = knn.score(X_test_2_scaled, y_test_2)\n",
    "print('k=11 Gen 7 Test Acc: ', gen_7_score)\n",
    "print('k=11 Gen 8 Test Acc: ', gen_8_score)"
   ]
  },
  {
   "cell_type": "code",
   "execution_count": 15,
   "metadata": {},
   "outputs": [
    {
     "name": "stdout",
     "output_type": "stream",
     "text": [
      "Gen 7 r2  -0.3563218390804599\n",
      "Gen 8 r2  -0.19387755102040827\n"
     ]
    }
   ],
   "source": [
    "#calculate r2\n",
    "from sklearn.metrics import r2_score\n",
    "\n",
    "\n",
    "predictions_1 = knn.predict(X_test_1_scaled)\n",
    "predictions_2 = knn.predict(X_test_2_scaled)\n",
    "\n",
    "gen_7_r2 = r2_score(y_test_1, predictions_1)\n",
    "gen_8_r2 = r2_score(y_test_2, predictions_2)\n",
    "\n",
    "print('Gen 7 r2 ', gen_7_r2)\n",
    "print('Gen 8 r2 ', gen_8_r2)"
   ]
  },
  {
   "cell_type": "code",
   "execution_count": 16,
   "metadata": {},
   "outputs": [
    {
     "data": {
      "text/html": [
       "<div>\n",
       "<style scoped>\n",
       "    .dataframe tbody tr th:only-of-type {\n",
       "        vertical-align: middle;\n",
       "    }\n",
       "\n",
       "    .dataframe tbody tr th {\n",
       "        vertical-align: top;\n",
       "    }\n",
       "\n",
       "    .dataframe thead th {\n",
       "        text-align: right;\n",
       "    }\n",
       "</style>\n",
       "<table border=\"1\" class=\"dataframe\">\n",
       "  <thead>\n",
       "    <tr style=\"text-align: right;\">\n",
       "      <th></th>\n",
       "      <th>Generation</th>\n",
       "      <th>Accuracy</th>\n",
       "      <th>R2</th>\n",
       "    </tr>\n",
       "  </thead>\n",
       "  <tbody>\n",
       "    <tr>\n",
       "      <th>0</th>\n",
       "      <td>Gen 7</td>\n",
       "      <td>0.737</td>\n",
       "      <td>-0.356</td>\n",
       "    </tr>\n",
       "    <tr>\n",
       "      <th>1</th>\n",
       "      <td>Gen 8</td>\n",
       "      <td>0.838</td>\n",
       "      <td>-0.194</td>\n",
       "    </tr>\n",
       "  </tbody>\n",
       "</table>\n",
       "</div>"
      ],
      "text/plain": [
       "  Generation  Accuracy     R2\n",
       "0      Gen 7     0.737 -0.356\n",
       "1      Gen 8     0.838 -0.194"
      ]
     },
     "execution_count": 16,
     "metadata": {},
     "output_type": "execute_result"
    }
   ],
   "source": [
    "#convert results to df\n",
    "knn_results = pd.DataFrame({'Generation': ['Gen 7', 'Gen 8'],\n",
    "                           'Accuracy': [gen_7_score, gen_8_score],\n",
    "                           'R2': [gen_7_r2, gen_8_r2]})\n",
    "knn_results = knn_results.round(3)\n",
    "knn_results"
   ]
  },
  {
   "cell_type": "code",
   "execution_count": 17,
   "metadata": {},
   "outputs": [],
   "source": [
    "#convert results to sql table\n",
    "knn_results.to_sql('knn_results', con, index=False)"
   ]
  },
  {
   "cell_type": "code",
   "execution_count": 18,
   "metadata": {},
   "outputs": [],
   "source": [
    "con.close()"
   ]
  }
 ],
 "metadata": {
  "kernelspec": {
   "display_name": "Python 3",
   "language": "python",
   "name": "python3"
  },
  "language_info": {
   "codemirror_mode": {
    "name": "ipython",
    "version": 3
   },
   "file_extension": ".py",
   "mimetype": "text/x-python",
   "name": "python",
   "nbconvert_exporter": "python",
   "pygments_lexer": "ipython3",
   "version": "3.8.5"
  }
 },
 "nbformat": 4,
 "nbformat_minor": 4
}
