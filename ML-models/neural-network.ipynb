{
 "cells": [
  {
   "cell_type": "code",
   "execution_count": 1,
   "metadata": {},
   "outputs": [],
   "source": [
    "#import dependencies\n",
    "import pandas as pd\n",
    "import sqlite3\n",
    "from sklearn.preprocessing import LabelEncoder\n",
    "\n",
    "#display all columns in dfs\n",
    "pd.set_option('display.max_columns', None)"
   ]
  },
  {
   "cell_type": "code",
   "execution_count": 2,
   "metadata": {},
   "outputs": [],
   "source": [
    "#connect to SQLite db\n",
    "conn = sqlite3.connect('../Data-and-DBs/pokedex.db')"
   ]
  },
  {
   "cell_type": "code",
   "execution_count": 3,
   "metadata": {},
   "outputs": [
    {
     "data": {
      "text/plain": [
       "<sqlite3.Cursor at 0x1cfe72ae3b0>"
      ]
     },
     "execution_count": 3,
     "metadata": {},
     "output_type": "execute_result"
    }
   ],
   "source": [
    "cursor = conn.cursor()\n",
    "cursor.execute('DROP table IF EXISTS neural_network_results')"
   ]
  },
  {
   "cell_type": "code",
   "execution_count": 4,
   "metadata": {},
   "outputs": [],
   "source": [
    "#call all entries from the gens_1_to_6 table in the db\n",
    "training_df = pd.read_sql('SELECT * FROM gens_1_to_6', conn)"
   ]
  },
  {
   "cell_type": "code",
   "execution_count": 5,
   "metadata": {},
   "outputs": [],
   "source": [
    "#encoding the training data\n",
    "#F, A. (2017, March 11). convert text columns into numbers in sklearn [web log]. https://stackoverflow.com/questions/34915813/convert-text-columns-into-numbers-in-sklearn. \n",
    "le = LabelEncoder()\n",
    "encoded_training = training_df[training_df.columns[:]].apply(le.fit_transform)"
   ]
  },
  {
   "cell_type": "code",
   "execution_count": 6,
   "metadata": {},
   "outputs": [
    {
     "name": "stdout",
     "output_type": "stream",
     "text": [
      "(817, 13) (817,)\n"
     ]
    }
   ],
   "source": [
    "#pull necessary info from the gens_1_to_6 training df to create training data\n",
    "X_train = encoded_training[['TYPE1', 'TYPE2', 'ABILITY1', 'ABILITY2', 'ABILITY_HIDDEN', 'HP', 'ATK', 'DEF',\n",
    "                       'SP_ATK', 'SP_DEF', 'SPD', 'TOTAL', 'CAPTURE_RATE']]\n",
    "y_train = encoded_training['LEGENDARY_FLAG']\n",
    "\n",
    "#double-check shapes of X and y match\n",
    "print(X_train.shape, y_train.shape)"
   ]
  },
  {
   "cell_type": "code",
   "execution_count": 7,
   "metadata": {},
   "outputs": [],
   "source": [
    "#call all entries from the gen7 and gen_8 table in the db\n",
    "test_df_1 = pd.read_sql('SELECT * FROM gen_7', conn)\n",
    "test_df_2 = pd.read_sql('SELECT * FROM gen_8', conn)"
   ]
  },
  {
   "cell_type": "code",
   "execution_count": 8,
   "metadata": {},
   "outputs": [],
   "source": [
    "#encoding the testing data \n",
    "#F, A. (2017, March 11). convert text columns into numbers in sklearn [web log]. https://stackoverflow.com/questions/34915813/convert-text-columns-into-numbers-in-sklearn.\n",
    "encoded_testing_1 = test_df_1[test_df_1.columns[:]].apply(le.fit_transform)\n",
    "encoded_testing_2 = test_df_2[test_df_2.columns[:]].apply(le.fit_transform)"
   ]
  },
  {
   "cell_type": "code",
   "execution_count": 9,
   "metadata": {},
   "outputs": [
    {
     "name": "stdout",
     "output_type": "stream",
     "text": [
      "(118, 13) (118,)\n",
      "(117, 13) (117,)\n"
     ]
    }
   ],
   "source": [
    "#pull necessary info from the gen_7 and gen_8 testing dfs to create test data\n",
    "X_test_1 = encoded_testing_1[['TYPE1', 'TYPE2', 'ABILITY1', 'ABILITY2', 'ABILITY_HIDDEN', 'HP', 'ATK', 'DEF',\n",
    "                      'SP_ATK', 'SP_DEF', 'SPD', 'TOTAL', 'CAPTURE_RATE']]                      \n",
    "y_test_1 = encoded_testing_1['LEGENDARY_FLAG']\n",
    "\n",
    "X_test_2 = encoded_testing_2[['TYPE1', 'TYPE2', 'ABILITY1', 'ABILITY2', 'ABILITY_HIDDEN', 'HP', 'ATK', 'DEF',\n",
    "                      'SP_ATK', 'SP_DEF', 'SPD', 'TOTAL', 'CAPTURE_RATE']]                      \n",
    "y_test_2 = encoded_testing_2['LEGENDARY_FLAG']\n",
    "\n",
    "#double-check shapes of X and y match\n",
    "print(X_test_1.shape, y_test_1.shape)\n",
    "print(X_test_2.shape, y_test_2.shape)"
   ]
  },
  {
   "cell_type": "code",
   "execution_count": 10,
   "metadata": {},
   "outputs": [],
   "source": [
    "#import dependencies to one-hot encode labels\n",
    "from tensorflow.keras.utils import to_categorical\n",
    "\n",
    "#one-hot encode labels\n",
    "y_train_categorical = to_categorical(y_train)\n",
    "y_test_categorical_1 = to_categorical(y_test_1)\n",
    "y_test_categorical_2 = to_categorical(y_test_2)"
   ]
  },
  {
   "cell_type": "code",
   "execution_count": 11,
   "metadata": {},
   "outputs": [],
   "source": [
    "#import necessary program for scaling\n",
    "from sklearn.preprocessing import StandardScaler\n",
    "\n",
    "#create scaler\n",
    "X_scaler = StandardScaler().fit(X_train)"
   ]
  },
  {
   "cell_type": "code",
   "execution_count": 12,
   "metadata": {},
   "outputs": [],
   "source": [
    "#scale X data\n",
    "X_train_scaled = X_scaler.transform(X_train)\n",
    "X_test_scaled_1 = X_scaler.transform(X_test_1)\n",
    "X_test_scaled_2 = X_scaler.transform(X_test_2)"
   ]
  },
  {
   "cell_type": "code",
   "execution_count": 13,
   "metadata": {},
   "outputs": [],
   "source": [
    "#import model requirement\n",
    "from tensorflow.keras.models import Sequential\n",
    "\n",
    "#create model\n",
    "model = Sequential()"
   ]
  },
  {
   "cell_type": "code",
   "execution_count": 14,
   "metadata": {},
   "outputs": [],
   "source": [
    "#import layer requirements\n",
    "from tensorflow.keras.layers import Dense\n",
    "\n",
    "#create input layer\n",
    "number_hidden_nodes = X_train.shape[0]\n",
    "model.add(Dense(units=number_hidden_nodes,\n",
    "                activation='relu', input_dim=X_train.shape[1]))"
   ]
  },
  {
   "cell_type": "code",
   "execution_count": 15,
   "metadata": {},
   "outputs": [],
   "source": [
    "#create output layer\n",
    "model.add(Dense(units=2, activation='sigmoid'))"
   ]
  },
  {
   "cell_type": "code",
   "execution_count": 16,
   "metadata": {},
   "outputs": [
    {
     "name": "stdout",
     "output_type": "stream",
     "text": [
      "Model: \"sequential\"\n",
      "_________________________________________________________________\n",
      "Layer (type)                 Output Shape              Param #   \n",
      "=================================================================\n",
      "dense (Dense)                (None, 817)               11438     \n",
      "_________________________________________________________________\n",
      "dense_1 (Dense)              (None, 2)                 1636      \n",
      "=================================================================\n",
      "Total params: 13,074\n",
      "Trainable params: 13,074\n",
      "Non-trainable params: 0\n",
      "_________________________________________________________________\n"
     ]
    }
   ],
   "source": [
    "#summarize model\n",
    "model.summary()"
   ]
  },
  {
   "cell_type": "code",
   "execution_count": 17,
   "metadata": {},
   "outputs": [],
   "source": [
    "#compile model\n",
    "model.compile(optimizer='adam',\n",
    "              loss='binary_crossentropy',\n",
    "              metrics=['accuracy'])"
   ]
  },
  {
   "cell_type": "code",
   "execution_count": 18,
   "metadata": {},
   "outputs": [
    {
     "data": {
      "text/plain": [
       "<tensorflow.python.keras.callbacks.History at 0x1cfef2044f0>"
      ]
     },
     "execution_count": 18,
     "metadata": {},
     "output_type": "execute_result"
    }
   ],
   "source": [
    "#fit model to training data\n",
    "model.fit(\n",
    "    X_train_scaled,\n",
    "    y_train_categorical,\n",
    "    epochs=40,\n",
    "    shuffle=True,\n",
    "    verbose=0\n",
    ")"
   ]
  },
  {
   "cell_type": "code",
   "execution_count": 19,
   "metadata": {},
   "outputs": [
    {
     "name": "stdout",
     "output_type": "stream",
     "text": [
      "Gen 7 - Loss: 5.624771595001221, Accuracy: 0.7372881174087524\n",
      "Gen 8 - Loss: 2.9382071495056152, Accuracy: 0.8376068472862244\n"
     ]
    }
   ],
   "source": [
    "#evaluate models for gen 7 and gen 8\n",
    "model_loss_1, model_accuracy_1 = model.evaluate(X_test_scaled_1, y_test_categorical_1, verbose=0)\n",
    "print(f\"Gen 7 - Loss: {model_loss_1}, Accuracy: {model_accuracy_1}\")\n",
    "model_loss_2, model_accuracy_2 = model.evaluate(X_test_scaled_2, y_test_categorical_2, verbose=0)\n",
    "print(f\"Gen 8 - Loss: {model_loss_2}, Accuracy: {model_accuracy_2}\")"
   ]
  },
  {
   "cell_type": "code",
   "execution_count": 20,
   "metadata": {},
   "outputs": [
    {
     "name": "stdout",
     "output_type": "stream",
     "text": [
      "Gen 7 r2  -0.35632188208361726\n",
      "Gen 8 r2  -0.19387747959224222\n"
     ]
    }
   ],
   "source": [
    "#calculate r2\n",
    "from sklearn.metrics import r2_score\n",
    "\n",
    "predictions_1 = model.predict(X_test_scaled_1)\n",
    "predictions_2 = model.predict(X_test_scaled_2)\n",
    "\n",
    "gen_7_r2 = r2_score(y_test_categorical_1, predictions_1)\n",
    "gen_8_r2 = r2_score(y_test_categorical_2, predictions_2)\n",
    "\n",
    "print('Gen 7 r2 ', gen_7_r2)\n",
    "print('Gen 8 r2 ', gen_8_r2)"
   ]
  },
  {
   "cell_type": "code",
   "execution_count": 21,
   "metadata": {},
   "outputs": [
    {
     "data": {
      "text/html": [
       "<div>\n",
       "<style scoped>\n",
       "    .dataframe tbody tr th:only-of-type {\n",
       "        vertical-align: middle;\n",
       "    }\n",
       "\n",
       "    .dataframe tbody tr th {\n",
       "        vertical-align: top;\n",
       "    }\n",
       "\n",
       "    .dataframe thead th {\n",
       "        text-align: right;\n",
       "    }\n",
       "</style>\n",
       "<table border=\"1\" class=\"dataframe\">\n",
       "  <thead>\n",
       "    <tr style=\"text-align: right;\">\n",
       "      <th></th>\n",
       "      <th>Generation</th>\n",
       "      <th>Loss</th>\n",
       "      <th>Accuracy</th>\n",
       "      <th>R2</th>\n",
       "    </tr>\n",
       "  </thead>\n",
       "  <tbody>\n",
       "    <tr>\n",
       "      <th>0</th>\n",
       "      <td>Gen 7</td>\n",
       "      <td>5.625</td>\n",
       "      <td>0.737</td>\n",
       "      <td>-0.356</td>\n",
       "    </tr>\n",
       "    <tr>\n",
       "      <th>1</th>\n",
       "      <td>Gen 8</td>\n",
       "      <td>2.938</td>\n",
       "      <td>0.838</td>\n",
       "      <td>-0.194</td>\n",
       "    </tr>\n",
       "  </tbody>\n",
       "</table>\n",
       "</div>"
      ],
      "text/plain": [
       "  Generation   Loss  Accuracy     R2\n",
       "0      Gen 7  5.625     0.737 -0.356\n",
       "1      Gen 8  2.938     0.838 -0.194"
      ]
     },
     "execution_count": 21,
     "metadata": {},
     "output_type": "execute_result"
    }
   ],
   "source": [
    "#convert results to dataframe\n",
    "neural_network_results = pd.DataFrame({\n",
    "    'Generation': ['Gen 7', 'Gen 8'],\n",
    "    'Loss': [model_loss_1, model_loss_2],\n",
    "    'Accuracy': [model_accuracy_1, model_accuracy_2],\n",
    "    'R2': [gen_7_r2, gen_8_r2]\n",
    "})\n",
    "neural_network_results = neural_network_results.round(3)\n",
    "neural_network_results"
   ]
  },
  {
   "cell_type": "code",
   "execution_count": 22,
   "metadata": {},
   "outputs": [],
   "source": [
    "#convert results to sql table\n",
    "neural_network_results.to_sql('neural_network_results', conn, index=False)"
   ]
  },
  {
   "cell_type": "code",
   "execution_count": 23,
   "metadata": {},
   "outputs": [],
   "source": [
    "#close database connection\n",
    "conn.close()"
   ]
  }
 ],
 "metadata": {
  "kernelspec": {
   "display_name": "Python 3",
   "language": "python",
   "name": "python3"
  },
  "language_info": {
   "codemirror_mode": {
    "name": "ipython",
    "version": 3
   },
   "file_extension": ".py",
   "mimetype": "text/x-python",
   "name": "python",
   "nbconvert_exporter": "python",
   "pygments_lexer": "ipython3",
   "version": "3.8.5"
  }
 },
 "nbformat": 4,
 "nbformat_minor": 4
}
