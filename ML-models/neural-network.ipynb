{
 "cells": [
  {
   "cell_type": "code",
   "execution_count": 1,
   "metadata": {},
   "outputs": [],
   "source": [
    "#import dependencies\n",
    "import pandas as pd\n",
    "import sqlite3\n",
    "from sklearn.preprocessing import LabelEncoder\n",
    "\n",
    "#display all columns in dfs\n",
    "pd.set_option('display.max_columns', None)"
   ]
  },
  {
   "cell_type": "code",
   "execution_count": 2,
   "metadata": {},
   "outputs": [],
   "source": [
    "#connect to SQLite db\n",
    "conn = sqlite3.connect('../Data-and-DBs/pokedex.db')"
   ]
  },
  {
   "cell_type": "code",
   "execution_count": 3,
   "metadata": {},
   "outputs": [
    {
     "data": {
      "text/plain": [
       "<sqlite3.Cursor at 0x2a7486ed260>"
      ]
     },
     "execution_count": 3,
     "metadata": {},
     "output_type": "execute_result"
    }
   ],
   "source": [
    "cursor = conn.cursor()\n",
    "cursor.execute('DROP table IF EXISTS neural_network_results')"
   ]
  },
  {
   "cell_type": "code",
   "execution_count": 4,
   "metadata": {},
   "outputs": [],
   "source": [
    "#call all entries from the gens_1_to_6 table in the db\n",
    "training_df = pd.read_sql('SELECT * FROM gens_1_to_6', conn)"
   ]
  },
  {
   "cell_type": "code",
   "execution_count": 5,
   "metadata": {},
   "outputs": [],
   "source": [
    "#encoding the training data\n",
    "#F, A. (2017, March 11). convert text columns into numbers in sklearn [web log]. https://stackoverflow.com/questions/34915813/convert-text-columns-into-numbers-in-sklearn. \n",
    "le = LabelEncoder()\n",
    "encoded_training = training_df[training_df.columns[:]].apply(le.fit_transform)"
   ]
  },
  {
   "cell_type": "code",
   "execution_count": 6,
   "metadata": {},
   "outputs": [
    {
     "name": "stdout",
     "output_type": "stream",
     "text": [
      "(817, 13) (817,)\n"
     ]
    }
   ],
   "source": [
    "#pull necessary info from the gens_1_to_6 training df to create training data\n",
    "X_train = encoded_training[['TYPE1', 'TYPE2', 'ABILITY1', 'ABILITY2', 'ABILITY_HIDDEN', 'HP', 'ATK', 'DEF',\n",
    "                       'SP_ATK', 'SP_DEF', 'SPD', 'TOTAL', 'CAPTURE_RATE']]\n",
    "y_train = encoded_training['LEGENDARY_FLAG']\n",
    "\n",
    "#double-check shapes of X and y match\n",
    "print(X_train.shape, y_train.shape)"
   ]
  },
  {
   "cell_type": "code",
   "execution_count": 7,
   "metadata": {},
   "outputs": [],
   "source": [
    "#call all entries from the gen7 and gen_8 table in the db\n",
    "test_df_1 = pd.read_sql('SELECT * FROM gen_7', conn)\n",
    "test_df_2 = pd.read_sql('SELECT * FROM gen_8', conn)"
   ]
  },
  {
   "cell_type": "code",
   "execution_count": 8,
   "metadata": {},
   "outputs": [],
   "source": [
    "#encoding the testing data \n",
    "#F, A. (2017, March 11). convert text columns into numbers in sklearn [web log]. https://stackoverflow.com/questions/34915813/convert-text-columns-into-numbers-in-sklearn.\n",
    "encoded_testing_1 = test_df_1[test_df_1.columns[:]].apply(le.fit_transform)\n",
    "encoded_testing_2 = test_df_2[test_df_2.columns[:]].apply(le.fit_transform)"
   ]
  },
  {
   "cell_type": "code",
   "execution_count": 9,
   "metadata": {},
   "outputs": [
    {
     "name": "stdout",
     "output_type": "stream",
     "text": [
      "(118, 13) (118,)\n",
      "(117, 13) (117,)\n"
     ]
    }
   ],
   "source": [
    "#pull necessary info from the gen_7 and gen_8 testing dfs to create test data\n",
    "X_test_1 = encoded_testing_1[['TYPE1', 'TYPE2', 'ABILITY1', 'ABILITY2', 'ABILITY_HIDDEN', 'HP', 'ATK', 'DEF',\n",
    "                      'SP_ATK', 'SP_DEF', 'SPD', 'TOTAL', 'CAPTURE_RATE']]                      \n",
    "y_test_1 = encoded_testing_1['LEGENDARY_FLAG']\n",
    "\n",
    "X_test_2 = encoded_testing_2[['TYPE1', 'TYPE2', 'ABILITY1', 'ABILITY2', 'ABILITY_HIDDEN', 'HP', 'ATK', 'DEF',\n",
    "                      'SP_ATK', 'SP_DEF', 'SPD', 'TOTAL', 'CAPTURE_RATE']]                      \n",
    "y_test_2 = encoded_testing_2['LEGENDARY_FLAG']\n",
    "\n",
    "#double-check shapes of X and y match\n",
    "print(X_test_1.shape, y_test_1.shape)\n",
    "print(X_test_2.shape, y_test_2.shape)"
   ]
  },
  {
   "cell_type": "code",
   "execution_count": 10,
   "metadata": {},
   "outputs": [],
   "source": [
    "#import dependencies to one-hot encode labels\n",
    "from tensorflow.keras.utils import to_categorical\n",
    "\n",
    "#one-hot encode labels\n",
    "y_train_categorical = to_categorical(y_train)\n",
    "y_test_categorical_1 = to_categorical(y_test_1)\n",
    "y_test_categorical_2 = to_categorical(y_test_2)"
   ]
  },
  {
   "cell_type": "code",
   "execution_count": 11,
   "metadata": {},
   "outputs": [],
   "source": [
    "#import necessary program for scaling\n",
    "from sklearn.preprocessing import StandardScaler\n",
    "\n",
    "#create scaler\n",
    "X_scaler = StandardScaler().fit(X_train)"
   ]
  },
  {
   "cell_type": "code",
   "execution_count": 12,
   "metadata": {},
   "outputs": [],
   "source": [
    "#scale X data\n",
    "X_train_scaled = X_scaler.transform(X_train)\n",
    "X_test_scaled_1 = X_scaler.transform(X_test_1)\n",
    "X_test_scaled_2 = X_scaler.transform(X_test_2)"
   ]
  },
  {
   "cell_type": "code",
   "execution_count": 13,
   "metadata": {},
   "outputs": [],
   "source": [
    "#import model requirement\n",
    "from tensorflow.keras.models import Sequential\n",
    "\n",
    "#create model\n",
    "model = Sequential()"
   ]
  },
  {
   "cell_type": "code",
   "execution_count": 14,
   "metadata": {},
   "outputs": [],
   "source": [
    "#import layer requirements\n",
    "from tensorflow.keras.layers import Dense\n",
    "\n",
    "#create input layer\n",
    "number_hidden_nodes = X_train.shape[0]\n",
    "model.add(Dense(units=number_hidden_nodes,\n",
    "                activation='relu', input_dim=X_train.shape[1]))"
   ]
  },
  {
   "cell_type": "code",
   "execution_count": 15,
   "metadata": {},
   "outputs": [],
   "source": [
    "#create output layer\n",
    "model.add(Dense(units=2, activation='sigmoid'))"
   ]
  },
  {
   "cell_type": "code",
   "execution_count": 16,
   "metadata": {},
   "outputs": [
    {
     "name": "stdout",
     "output_type": "stream",
     "text": [
      "Model: \"sequential\"\n",
      "_________________________________________________________________\n",
      "Layer (type)                 Output Shape              Param #   \n",
      "=================================================================\n",
      "dense (Dense)                (None, 817)               11438     \n",
      "_________________________________________________________________\n",
      "dense_1 (Dense)              (None, 2)                 1636      \n",
      "=================================================================\n",
      "Total params: 13,074\n",
      "Trainable params: 13,074\n",
      "Non-trainable params: 0\n",
      "_________________________________________________________________\n"
     ]
    }
   ],
   "source": [
    "#summarize model\n",
    "model.summary()"
   ]
  },
  {
   "cell_type": "code",
   "execution_count": 17,
   "metadata": {},
   "outputs": [],
   "source": [
    "#compile model\n",
    "model.compile(optimizer='adam',\n",
    "              loss='binary_crossentropy',\n",
    "              metrics=['accuracy'])"
   ]
  },
  {
   "cell_type": "code",
   "execution_count": 18,
   "metadata": {},
   "outputs": [
    {
     "name": "stdout",
     "output_type": "stream",
     "text": [
      "Epoch 1/40\n",
      "26/26 - 2s - loss: 0.4334 - accuracy: 0.8629\n",
      "Epoch 2/40\n",
      "26/26 - 0s - loss: 0.2205 - accuracy: 0.9082\n",
      "Epoch 3/40\n",
      "26/26 - 0s - loss: 0.1633 - accuracy: 0.9425\n",
      "Epoch 4/40\n",
      "26/26 - 0s - loss: 0.1325 - accuracy: 0.9559\n",
      "Epoch 5/40\n",
      "26/26 - 0s - loss: 0.1120 - accuracy: 0.9731\n",
      "Epoch 6/40\n",
      "26/26 - 0s - loss: 0.0974 - accuracy: 0.9694\n",
      "Epoch 7/40\n",
      "26/26 - 0s - loss: 0.0907 - accuracy: 0.9657\n",
      "Epoch 8/40\n",
      "26/26 - 0s - loss: 0.0796 - accuracy: 0.9743\n",
      "Epoch 9/40\n",
      "26/26 - 0s - loss: 0.0718 - accuracy: 0.9755\n",
      "Epoch 10/40\n",
      "26/26 - 0s - loss: 0.0672 - accuracy: 0.9780\n",
      "Epoch 11/40\n",
      "26/26 - 0s - loss: 0.0601 - accuracy: 0.9841\n",
      "Epoch 12/40\n",
      "26/26 - 0s - loss: 0.0560 - accuracy: 0.9816\n",
      "Epoch 13/40\n",
      "26/26 - 0s - loss: 0.0518 - accuracy: 0.9841\n",
      "Epoch 14/40\n",
      "26/26 - 0s - loss: 0.0474 - accuracy: 0.9853\n",
      "Epoch 15/40\n",
      "26/26 - 0s - loss: 0.0461 - accuracy: 0.9865\n",
      "Epoch 16/40\n",
      "26/26 - 0s - loss: 0.0421 - accuracy: 0.9853\n",
      "Epoch 17/40\n",
      "26/26 - 0s - loss: 0.0393 - accuracy: 0.9914\n",
      "Epoch 18/40\n",
      "26/26 - 0s - loss: 0.0377 - accuracy: 0.9902\n",
      "Epoch 19/40\n",
      "26/26 - 0s - loss: 0.0344 - accuracy: 0.9890\n",
      "Epoch 20/40\n",
      "26/26 - 0s - loss: 0.0331 - accuracy: 0.9914\n",
      "Epoch 21/40\n",
      "26/26 - 0s - loss: 0.0334 - accuracy: 0.9890\n",
      "Epoch 22/40\n",
      "26/26 - 0s - loss: 0.0293 - accuracy: 0.9914\n",
      "Epoch 23/40\n",
      "26/26 - 0s - loss: 0.0262 - accuracy: 0.9939\n",
      "Epoch 24/40\n",
      "26/26 - 0s - loss: 0.0262 - accuracy: 0.9914\n",
      "Epoch 25/40\n",
      "26/26 - 0s - loss: 0.0239 - accuracy: 0.9951\n",
      "Epoch 26/40\n",
      "26/26 - 0s - loss: 0.0236 - accuracy: 0.9963\n",
      "Epoch 27/40\n",
      "26/26 - 0s - loss: 0.0241 - accuracy: 0.9927\n",
      "Epoch 28/40\n",
      "26/26 - 0s - loss: 0.0236 - accuracy: 0.9927\n",
      "Epoch 29/40\n",
      "26/26 - 0s - loss: 0.0202 - accuracy: 0.9963\n",
      "Epoch 30/40\n",
      "26/26 - 0s - loss: 0.0189 - accuracy: 0.9976\n",
      "Epoch 31/40\n",
      "26/26 - 0s - loss: 0.0173 - accuracy: 0.9963\n",
      "Epoch 32/40\n",
      "26/26 - 0s - loss: 0.0159 - accuracy: 1.0000\n",
      "Epoch 33/40\n",
      "26/26 - 0s - loss: 0.0198 - accuracy: 0.9939\n",
      "Epoch 34/40\n",
      "26/26 - 0s - loss: 0.0158 - accuracy: 0.9976\n",
      "Epoch 35/40\n",
      "26/26 - 0s - loss: 0.0148 - accuracy: 0.9988\n",
      "Epoch 36/40\n",
      "26/26 - 0s - loss: 0.0135 - accuracy: 0.9963\n",
      "Epoch 37/40\n",
      "26/26 - 0s - loss: 0.0132 - accuracy: 1.0000\n",
      "Epoch 38/40\n",
      "26/26 - 0s - loss: 0.0134 - accuracy: 0.9976\n",
      "Epoch 39/40\n",
      "26/26 - 0s - loss: 0.0146 - accuracy: 0.9963\n",
      "Epoch 40/40\n",
      "26/26 - 0s - loss: 0.0143 - accuracy: 0.9951\n"
     ]
    },
    {
     "data": {
      "text/plain": [
       "<tensorflow.python.keras.callbacks.History at 0x2a750643340>"
      ]
     },
     "execution_count": 18,
     "metadata": {},
     "output_type": "execute_result"
    }
   ],
   "source": [
    "#fit model to training data\n",
    "model.fit(\n",
    "    X_train_scaled,\n",
    "    y_train_categorical,\n",
    "    epochs=40,\n",
    "    shuffle=True,\n",
    "    verbose=2\n",
    ")"
   ]
  },
  {
   "cell_type": "code",
   "execution_count": 19,
   "metadata": {},
   "outputs": [
    {
     "name": "stdout",
     "output_type": "stream",
     "text": [
      "4/4 - 0s - loss: 5.6311 - accuracy: 0.7373\n",
      "Gen 7 - Loss: 5.6310858726501465, Accuracy: 0.7372881174087524\n",
      "4/4 - 0s - loss: 2.9023 - accuracy: 0.8376\n",
      "Gen 8 - Loss: 2.9023385047912598, Accuracy: 0.8376068472862244\n"
     ]
    }
   ],
   "source": [
    "#evaluate models for gen 7 and gen 8\n",
    "model_loss_1, model_accuracy_1 = model.evaluate(X_test_scaled_1, y_test_categorical_1, verbose=2)\n",
    "print(f\"Gen 7 - Loss: {model_loss_1}, Accuracy: {model_accuracy_1}\")\n",
    "model_loss_2, model_accuracy_2 = model.evaluate(X_test_scaled_2, y_test_categorical_2, verbose=2)\n",
    "print(f\"Gen 8 - Loss: {model_loss_2}, Accuracy: {model_accuracy_2}\")"
   ]
  },
  {
   "cell_type": "code",
   "execution_count": 20,
   "metadata": {},
   "outputs": [
    {
     "data": {
      "text/html": [
       "<div>\n",
       "<style scoped>\n",
       "    .dataframe tbody tr th:only-of-type {\n",
       "        vertical-align: middle;\n",
       "    }\n",
       "\n",
       "    .dataframe tbody tr th {\n",
       "        vertical-align: top;\n",
       "    }\n",
       "\n",
       "    .dataframe thead th {\n",
       "        text-align: right;\n",
       "    }\n",
       "</style>\n",
       "<table border=\"1\" class=\"dataframe\">\n",
       "  <thead>\n",
       "    <tr style=\"text-align: right;\">\n",
       "      <th></th>\n",
       "      <th>Generation</th>\n",
       "      <th>Loss</th>\n",
       "      <th>Accuracy</th>\n",
       "    </tr>\n",
       "  </thead>\n",
       "  <tbody>\n",
       "    <tr>\n",
       "      <th>0</th>\n",
       "      <td>Gen 7</td>\n",
       "      <td>5.631086</td>\n",
       "      <td>0.737288</td>\n",
       "    </tr>\n",
       "    <tr>\n",
       "      <th>1</th>\n",
       "      <td>Gen 8</td>\n",
       "      <td>2.902339</td>\n",
       "      <td>0.837607</td>\n",
       "    </tr>\n",
       "  </tbody>\n",
       "</table>\n",
       "</div>"
      ],
      "text/plain": [
       "  Generation      Loss  Accuracy\n",
       "0      Gen 7  5.631086  0.737288\n",
       "1      Gen 8  2.902339  0.837607"
      ]
     },
     "execution_count": 20,
     "metadata": {},
     "output_type": "execute_result"
    }
   ],
   "source": [
    "#convert results to dataframe\n",
    "neural_network_results = pd.DataFrame({\n",
    "    'Generation': ['Gen 7', 'Gen 8'],\n",
    "    'Loss': [model_loss_1, model_loss_2],\n",
    "    'Accuracy': [model_accuracy_1, model_accuracy_2]\n",
    "})\n",
    "neural_network_results"
   ]
  },
  {
   "cell_type": "code",
   "execution_count": 21,
   "metadata": {},
   "outputs": [],
   "source": [
    "#convert results to sql table\n",
    "neural_network_results.to_sql('neural_network_results', conn, index=False)"
   ]
  },
  {
   "cell_type": "code",
   "execution_count": 22,
   "metadata": {},
   "outputs": [],
   "source": [
    "#close database connection\n",
    "conn.close()"
   ]
  }
 ],
 "metadata": {
  "kernelspec": {
   "display_name": "Python 3",
   "language": "python",
   "name": "python3"
  },
  "language_info": {
   "codemirror_mode": {
    "name": "ipython",
    "version": 3
   },
   "file_extension": ".py",
   "mimetype": "text/x-python",
   "name": "python",
   "nbconvert_exporter": "python",
   "pygments_lexer": "ipython3",
   "version": "3.8.5"
  }
 },
 "nbformat": 4,
 "nbformat_minor": 4
}
