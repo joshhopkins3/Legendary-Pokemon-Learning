{
 "cells": [
  {
   "cell_type": "code",
   "execution_count": 1,
   "metadata": {},
   "outputs": [],
   "source": [
    "#import dependencies\n",
    "import pandas as pd\n",
    "import sqlite3\n",
    "from sklearn.preprocessing import LabelEncoder\n",
    "\n",
    "#display all columns in dfs\n",
    "pd.set_option('display.max_columns', None)"
   ]
  },
  {
   "cell_type": "code",
   "execution_count": 2,
   "metadata": {},
   "outputs": [],
   "source": [
    "#connect to SQLite db\n",
    "conn = sqlite3.connect('../Data-and-DBs/pokedex.db')"
   ]
  },
  {
   "cell_type": "code",
   "execution_count": 3,
   "metadata": {},
   "outputs": [
    {
     "data": {
      "text/plain": [
       "<sqlite3.Cursor at 0x253b839d030>"
      ]
     },
     "execution_count": 3,
     "metadata": {},
     "output_type": "execute_result"
    }
   ],
   "source": [
    "cursor = conn.cursor()\n",
    "cursor.execute('DROP table IF EXISTS random_forest_results')"
   ]
  },
  {
   "cell_type": "code",
   "execution_count": 4,
   "metadata": {},
   "outputs": [],
   "source": [
    "#call all entries from the gens_1_to_6 table in the db\n",
    "training_df = pd.read_sql('SELECT * FROM gens_1_to_6', conn)"
   ]
  },
  {
   "cell_type": "code",
   "execution_count": 5,
   "metadata": {},
   "outputs": [],
   "source": [
    "#encoding the training data \n",
    "le = LabelEncoder()\n",
    "encoded_training = training_df[training_df.columns[:]].apply(le.fit_transform)"
   ]
  },
  {
   "cell_type": "code",
   "execution_count": 6,
   "metadata": {},
   "outputs": [
    {
     "name": "stdout",
     "output_type": "stream",
     "text": [
      "(817, 13) (817,)\n"
     ]
    }
   ],
   "source": [
    "#pull necessary info from the gens_1_to_6 training df to create training data\n",
    "X_train = encoded_training[['TYPE1', 'TYPE2', 'ABILITY1', 'ABILITY2', 'ABILITY_HIDDEN', 'HP', 'ATK', 'DEF',\n",
    "                       'SP_ATK', 'SP_DEF', 'SPD', 'TOTAL', 'CAPTURE_RATE']]\n",
    "y_train = encoded_training['LEGENDARY_FLAG']\n",
    "\n",
    "#double-check shapes of X and y match\n",
    "print(X_train.shape, y_train.shape)"
   ]
  },
  {
   "cell_type": "code",
   "execution_count": 7,
   "metadata": {},
   "outputs": [],
   "source": [
    "#call all entries from the gen7 and gen_8 table in the db\n",
    "test_df_1 = pd.read_sql('SELECT * FROM gen_7', conn)\n",
    "test_df_2 = pd.read_sql('SELECT * FROM gen_8', conn)"
   ]
  },
  {
   "cell_type": "code",
   "execution_count": 8,
   "metadata": {},
   "outputs": [],
   "source": [
    "#encoding the testing data \n",
    "encoded_testing_1 = test_df_1[test_df_1.columns[:]].apply(le.fit_transform)\n",
    "encoded_testing_2 = test_df_2[test_df_2.columns[:]].apply(le.fit_transform)"
   ]
  },
  {
   "cell_type": "code",
   "execution_count": 9,
   "metadata": {},
   "outputs": [
    {
     "name": "stdout",
     "output_type": "stream",
     "text": [
      "(118, 13) (118,)\n",
      "(117, 13) (117,)\n"
     ]
    }
   ],
   "source": [
    "#pull necessary info from the gen_7 and gen_8 testing dfs to create test data\n",
    "X_test_1 = encoded_testing_1[['TYPE1', 'TYPE2', 'ABILITY1', 'ABILITY2', 'ABILITY_HIDDEN', 'HP', 'ATK', 'DEF',\n",
    "                      'SP_ATK', 'SP_DEF', 'SPD', 'TOTAL', 'CAPTURE_RATE']]                      \n",
    "y_test_1 = encoded_testing_1['LEGENDARY_FLAG']\n",
    "\n",
    "X_test_2 = encoded_testing_2[['TYPE1', 'TYPE2', 'ABILITY1', 'ABILITY2', 'ABILITY_HIDDEN', 'HP', 'ATK', 'DEF',\n",
    "                      'SP_ATK', 'SP_DEF', 'SPD', 'TOTAL', 'CAPTURE_RATE']]                      \n",
    "y_test_2 = encoded_testing_2['LEGENDARY_FLAG']\n",
    "\n",
    "#double-check shapes of X and y match\n",
    "print(X_test_1.shape, y_test_1.shape)\n",
    "print(X_test_2.shape, y_test_2.shape)"
   ]
  },
  {
   "cell_type": "code",
   "execution_count": 10,
   "metadata": {},
   "outputs": [],
   "source": [
    "#import random forest test\n",
    "from sklearn.ensemble import RandomForestClassifier\n",
    "rf = RandomForestClassifier(n_estimators=200)\n",
    "\n",
    "#fit to the training data\n",
    "rf = rf.fit(X_train, y_train)"
   ]
  },
  {
   "cell_type": "code",
   "execution_count": 11,
   "metadata": {},
   "outputs": [
    {
     "name": "stdout",
     "output_type": "stream",
     "text": [
      "Gen 7 Score: 0.7372881355932204\n",
      "Gen 8 Score: 0.8376068376068376\n"
     ]
    }
   ],
   "source": [
    "#see the score for the test datasets\n",
    "print(f'Gen 7 Score: {rf.score(X_test_1, y_test_1)}')\n",
    "print(f'Gen 8 Score: {rf.score(X_test_2, y_test_2)}')"
   ]
  },
  {
   "cell_type": "code",
   "execution_count": 12,
   "metadata": {
    "scrolled": true
   },
   "outputs": [
    {
     "data": {
      "text/plain": [
       "[(0.3710162967919019, 'CAPTURE_RATE'),\n",
       " (0.23586653419441175, 'TOTAL'),\n",
       " (0.08202623775868463, 'SP_ATK'),\n",
       " (0.06708207257261534, 'HP'),\n",
       " (0.058885909628883605, 'SPD'),\n",
       " (0.04274000732010812, 'SP_DEF'),\n",
       " (0.03691149427470383, 'ATK'),\n",
       " (0.03653685652730224, 'DEF'),\n",
       " (0.026529565357877146, 'ABILITY1'),\n",
       " (0.015844869534658867, 'TYPE1'),\n",
       " (0.012310734806069203, 'TYPE2'),\n",
       " (0.009717840808638993, 'ABILITY_HIDDEN'),\n",
       " (0.004531580424144431, 'ABILITY2')]"
      ]
     },
     "execution_count": 12,
     "metadata": {},
     "output_type": "execute_result"
    }
   ],
   "source": [
    "#determine the importance of each X variable\n",
    "sorted(zip(rf.feature_importances_, X_train.columns), reverse=True)"
   ]
  },
  {
   "cell_type": "code",
   "execution_count": 13,
   "metadata": {},
   "outputs": [],
   "source": [
    "# Make predictions with the model\n",
    "predictions_1 = rf.predict(X_test_1)\n",
    "predictions_2 = rf.predict(X_test_2)"
   ]
  },
  {
   "cell_type": "code",
   "execution_count": 14,
   "metadata": {},
   "outputs": [],
   "source": [
    "#classification report\n",
    "from sklearn.metrics import classification_report\n",
    "gen_7_classification = classification_report(y_test_1, predictions_1, target_names=[\"Non-Legendary\", \"Legendary\"], output_dict=True, zero_division=0)\n",
    "gen_8_classification = classification_report(y_test_2, predictions_2, target_names=[\"Non-Legendary\", \"Legendary\"], output_dict=True, zero_division=0)"
   ]
  },
  {
   "cell_type": "code",
   "execution_count": 15,
   "metadata": {
    "scrolled": false
   },
   "outputs": [
    {
     "name": "stdout",
     "output_type": "stream",
     "text": [
      "Gen 7 Classification: {'Non-Legendary': {'precision': 0.7372881355932204, 'recall': 1.0, 'f1-score': 0.848780487804878, 'support': 87}, 'Legendary': {'precision': 0.0, 'recall': 0.0, 'f1-score': 0.0, 'support': 31}, 'accuracy': 0.7372881355932204, 'macro avg': {'precision': 0.3686440677966102, 'recall': 0.5, 'f1-score': 0.424390243902439, 'support': 118}, 'weighted avg': {'precision': 0.5435937948865269, 'recall': 0.7372881355932204, 'f1-score': 0.6257957833815626, 'support': 118}}\n",
      "Gen 8 Classification: {'Non-Legendary': {'precision': 0.8376068376068376, 'recall': 1.0, 'f1-score': 0.9116279069767441, 'support': 98}, 'Legendary': {'precision': 0.0, 'recall': 0.0, 'f1-score': 0.0, 'support': 19}, 'accuracy': 0.8376068376068376, 'macro avg': {'precision': 0.4188034188034188, 'recall': 0.5, 'f1-score': 0.45581395348837206, 'support': 117}, 'weighted avg': {'precision': 0.7015852144057273, 'recall': 0.8376068376068376, 'f1-score': 0.763585768236931, 'support': 117}}\n"
     ]
    }
   ],
   "source": [
    "print(f'Gen 7 Classification: {gen_7_classification}')\n",
    "print(f'Gen 8 Classification: {gen_8_classification}')"
   ]
  },
  {
   "cell_type": "code",
   "execution_count": 16,
   "metadata": {},
   "outputs": [
    {
     "data": {
      "text/html": [
       "<div>\n",
       "<style scoped>\n",
       "    .dataframe tbody tr th:only-of-type {\n",
       "        vertical-align: middle;\n",
       "    }\n",
       "\n",
       "    .dataframe tbody tr th {\n",
       "        vertical-align: top;\n",
       "    }\n",
       "\n",
       "    .dataframe thead th {\n",
       "        text-align: right;\n",
       "    }\n",
       "</style>\n",
       "<table border=\"1\" class=\"dataframe\">\n",
       "  <thead>\n",
       "    <tr style=\"text-align: right;\">\n",
       "      <th></th>\n",
       "      <th>Non-Legendary</th>\n",
       "      <th>Legendary</th>\n",
       "      <th>accuracy</th>\n",
       "      <th>macro_avg</th>\n",
       "      <th>weighted_avg</th>\n",
       "    </tr>\n",
       "  </thead>\n",
       "  <tbody>\n",
       "    <tr>\n",
       "      <th>precision_gen_7</th>\n",
       "      <td>0.737288</td>\n",
       "      <td>0.0</td>\n",
       "      <td>0.737288</td>\n",
       "      <td>0.368644</td>\n",
       "      <td>0.543594</td>\n",
       "    </tr>\n",
       "    <tr>\n",
       "      <th>recall_gen_7</th>\n",
       "      <td>1.000000</td>\n",
       "      <td>0.0</td>\n",
       "      <td>0.737288</td>\n",
       "      <td>0.500000</td>\n",
       "      <td>0.737288</td>\n",
       "    </tr>\n",
       "    <tr>\n",
       "      <th>f1-score_gen_7</th>\n",
       "      <td>0.848780</td>\n",
       "      <td>0.0</td>\n",
       "      <td>0.737288</td>\n",
       "      <td>0.424390</td>\n",
       "      <td>0.625796</td>\n",
       "    </tr>\n",
       "    <tr>\n",
       "      <th>support_gen_7</th>\n",
       "      <td>87.000000</td>\n",
       "      <td>31.0</td>\n",
       "      <td>0.737288</td>\n",
       "      <td>118.000000</td>\n",
       "      <td>118.000000</td>\n",
       "    </tr>\n",
       "    <tr>\n",
       "      <th>precision_gen_8</th>\n",
       "      <td>0.837607</td>\n",
       "      <td>0.0</td>\n",
       "      <td>0.837607</td>\n",
       "      <td>0.418803</td>\n",
       "      <td>0.701585</td>\n",
       "    </tr>\n",
       "    <tr>\n",
       "      <th>recall_gen_8</th>\n",
       "      <td>1.000000</td>\n",
       "      <td>0.0</td>\n",
       "      <td>0.837607</td>\n",
       "      <td>0.500000</td>\n",
       "      <td>0.837607</td>\n",
       "    </tr>\n",
       "    <tr>\n",
       "      <th>f1-score_gen_8</th>\n",
       "      <td>0.911628</td>\n",
       "      <td>0.0</td>\n",
       "      <td>0.837607</td>\n",
       "      <td>0.455814</td>\n",
       "      <td>0.763586</td>\n",
       "    </tr>\n",
       "    <tr>\n",
       "      <th>support_gen_8</th>\n",
       "      <td>98.000000</td>\n",
       "      <td>19.0</td>\n",
       "      <td>0.837607</td>\n",
       "      <td>117.000000</td>\n",
       "      <td>117.000000</td>\n",
       "    </tr>\n",
       "  </tbody>\n",
       "</table>\n",
       "</div>"
      ],
      "text/plain": [
       "                 Non-Legendary  Legendary  accuracy   macro_avg  weighted_avg\n",
       "precision_gen_7       0.737288        0.0  0.737288    0.368644      0.543594\n",
       "recall_gen_7          1.000000        0.0  0.737288    0.500000      0.737288\n",
       "f1-score_gen_7        0.848780        0.0  0.737288    0.424390      0.625796\n",
       "support_gen_7        87.000000       31.0  0.737288  118.000000    118.000000\n",
       "precision_gen_8       0.837607        0.0  0.837607    0.418803      0.701585\n",
       "recall_gen_8          1.000000        0.0  0.837607    0.500000      0.837607\n",
       "f1-score_gen_8        0.911628        0.0  0.837607    0.455814      0.763586\n",
       "support_gen_8        98.000000       19.0  0.837607  117.000000    117.000000"
      ]
     },
     "execution_count": 16,
     "metadata": {},
     "output_type": "execute_result"
    }
   ],
   "source": [
    "#convert results to dataframe\n",
    "gen_7_classification_df = pd.DataFrame.from_dict(gen_7_classification)\n",
    "gen_7_classification_df.rename({'precision': 'precision_gen_7', \n",
    "                                     'recall': 'recall_gen_7', \n",
    "                                     'f1-score': 'f1-score_gen_7', \n",
    "                                     'support': 'support_gen_7'}, inplace=True)\n",
    "gen_8_classification_df = pd.DataFrame.from_dict(gen_8_classification)\n",
    "gen_8_classification_df.rename({'precision': 'precision_gen_8', \n",
    "                                     'recall': 'recall_gen_8', \n",
    "                                     'f1-score': 'f1-score_gen_8', \n",
    "                                     'support': 'support_gen_8'}, inplace=True)\n",
    "random_forest_results = gen_7_classification_df.append(gen_8_classification_df)\n",
    "random_forest_results.rename(columns={'macro avg': 'macro_avg', 'weighted avg': 'weighted_avg'}, inplace=True)\n",
    "random_forest_results"
   ]
  },
  {
   "cell_type": "code",
   "execution_count": 17,
   "metadata": {},
   "outputs": [],
   "source": [
    "#convert results to sql table\n",
    "random_forest_results.to_sql('random_forest_results', conn, index=False)"
   ]
  },
  {
   "cell_type": "code",
   "execution_count": 18,
   "metadata": {},
   "outputs": [],
   "source": [
    "#close the db connection\n",
    "conn.close()"
   ]
  }
 ],
 "metadata": {
  "kernelspec": {
   "display_name": "Python 3",
   "language": "python",
   "name": "python3"
  },
  "language_info": {
   "codemirror_mode": {
    "name": "ipython",
    "version": 3
   },
   "file_extension": ".py",
   "mimetype": "text/x-python",
   "name": "python",
   "nbconvert_exporter": "python",
   "pygments_lexer": "ipython3",
   "version": "3.8.5"
  }
 },
 "nbformat": 4,
 "nbformat_minor": 4
}
