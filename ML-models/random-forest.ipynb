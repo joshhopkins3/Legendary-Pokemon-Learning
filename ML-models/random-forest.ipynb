{
 "cells": [
  {
   "cell_type": "code",
   "execution_count": 1,
   "metadata": {},
   "outputs": [],
   "source": [
    "#import dependencies\n",
    "import pandas as pd\n",
    "import sqlite3\n",
    "from sklearn.preprocessing import LabelEncoder\n",
    "\n",
    "#display all columns in dfs\n",
    "pd.set_option('display.max_columns', None)"
   ]
  },
  {
   "cell_type": "code",
   "execution_count": 2,
   "metadata": {},
   "outputs": [],
   "source": [
    "#connect to SQLite db\n",
    "conn = sqlite3.connect('../Data-and-DBs/pokedex.db')"
   ]
  },
  {
   "cell_type": "code",
   "execution_count": 3,
   "metadata": {},
   "outputs": [
    {
     "data": {
      "text/plain": [
       "<sqlite3.Cursor at 0x214c941f340>"
      ]
     },
     "execution_count": 3,
     "metadata": {},
     "output_type": "execute_result"
    }
   ],
   "source": [
    "cursor = conn.cursor()\n",
    "cursor.execute('DROP table IF EXISTS random_forest_results')"
   ]
  },
  {
   "cell_type": "code",
   "execution_count": 4,
   "metadata": {},
   "outputs": [],
   "source": [
    "#call all entries from the gens_1_to_6 table in the db\n",
    "training_df = pd.read_sql('SELECT * FROM gens_1_to_6', conn)"
   ]
  },
  {
   "cell_type": "code",
   "execution_count": 5,
   "metadata": {},
   "outputs": [],
   "source": [
    "#encoding the training data \n",
    "le = LabelEncoder()\n",
    "encoded_training = training_df[training_df.columns[:]].apply(le.fit_transform)"
   ]
  },
  {
   "cell_type": "code",
   "execution_count": 6,
   "metadata": {},
   "outputs": [
    {
     "name": "stdout",
     "output_type": "stream",
     "text": [
      "(817, 13) (817,)\n"
     ]
    }
   ],
   "source": [
    "#pull necessary info from the gens_1_to_6 training df to create training data\n",
    "X_train = encoded_training[['TYPE1', 'TYPE2', 'ABILITY1', 'ABILITY2', 'ABILITY_HIDDEN', 'HP', 'ATK', 'DEF',\n",
    "                       'SP_ATK', 'SP_DEF', 'SPD', 'TOTAL', 'CAPTURE_RATE']]\n",
    "y_train = encoded_training['LEGENDARY_FLAG']\n",
    "\n",
    "#double-check shapes of X and y match\n",
    "print(X_train.shape, y_train.shape)"
   ]
  },
  {
   "cell_type": "code",
   "execution_count": 7,
   "metadata": {},
   "outputs": [],
   "source": [
    "#call all entries from the gen7 and gen_8 table in the db\n",
    "test_df_1 = pd.read_sql('SELECT * FROM gen_7', conn)\n",
    "test_df_2 = pd.read_sql('SELECT * FROM gen_8', conn)"
   ]
  },
  {
   "cell_type": "code",
   "execution_count": 8,
   "metadata": {},
   "outputs": [],
   "source": [
    "#encoding the testing data \n",
    "encoded_testing_1 = test_df_1[test_df_1.columns[:]].apply(le.fit_transform)\n",
    "encoded_testing_2 = test_df_2[test_df_2.columns[:]].apply(le.fit_transform)"
   ]
  },
  {
   "cell_type": "code",
   "execution_count": 9,
   "metadata": {},
   "outputs": [
    {
     "name": "stdout",
     "output_type": "stream",
     "text": [
      "(118, 13) (118,)\n",
      "(117, 13) (117,)\n"
     ]
    }
   ],
   "source": [
    "#pull necessary info from the gen_7 and gen_8 testing dfs to create test data\n",
    "X_test_1 = encoded_testing_1[['TYPE1', 'TYPE2', 'ABILITY1', 'ABILITY2', 'ABILITY_HIDDEN', 'HP', 'ATK', 'DEF',\n",
    "                      'SP_ATK', 'SP_DEF', 'SPD', 'TOTAL', 'CAPTURE_RATE']]                      \n",
    "y_test_1 = encoded_testing_1['LEGENDARY_FLAG']\n",
    "\n",
    "X_test_2 = encoded_testing_2[['TYPE1', 'TYPE2', 'ABILITY1', 'ABILITY2', 'ABILITY_HIDDEN', 'HP', 'ATK', 'DEF',\n",
    "                      'SP_ATK', 'SP_DEF', 'SPD', 'TOTAL', 'CAPTURE_RATE']]                      \n",
    "y_test_2 = encoded_testing_2['LEGENDARY_FLAG']\n",
    "\n",
    "#double-check shapes of X and y match\n",
    "print(X_test_1.shape, y_test_1.shape)\n",
    "print(X_test_2.shape, y_test_2.shape)"
   ]
  },
  {
   "cell_type": "code",
   "execution_count": 10,
   "metadata": {},
   "outputs": [],
   "source": [
    "#import random forest test\n",
    "from sklearn.ensemble import RandomForestClassifier\n",
    "rf = RandomForestClassifier(n_estimators=200)\n",
    "\n",
    "#fit to the training data\n",
    "rf = rf.fit(X_train, y_train)"
   ]
  },
  {
   "cell_type": "code",
   "execution_count": 11,
   "metadata": {},
   "outputs": [
    {
     "name": "stdout",
     "output_type": "stream",
     "text": [
      "Gen 7 Score: 0.7372881355932204\n",
      "Gen 8 Score: 0.8376068376068376\n"
     ]
    }
   ],
   "source": [
    "#see the score for the test datasets\n",
    "gen_7_score = rf.score(X_test_1, y_test_1)\n",
    "gen_8_score = rf.score(X_test_2, y_test_2)\n",
    "\n",
    "print(f'Gen 7 Score: {gen_7_score}')\n",
    "print(f'Gen 8 Score: {gen_8_score}')"
   ]
  },
  {
   "cell_type": "code",
   "execution_count": 12,
   "metadata": {
    "scrolled": true
   },
   "outputs": [
    {
     "data": {
      "text/plain": [
       "[(0.38405625736219207, 'CAPTURE_RATE'),\n",
       " (0.21952156326502675, 'TOTAL'),\n",
       " (0.09507359208769714, 'SP_ATK'),\n",
       " (0.06236626032553068, 'SPD'),\n",
       " (0.058345262330768366, 'HP'),\n",
       " (0.04614785078369108, 'SP_DEF'),\n",
       " (0.0371709525977252, 'ATK'),\n",
       " (0.029959862299982532, 'DEF'),\n",
       " (0.025464864304070894, 'ABILITY1'),\n",
       " (0.014267155606231392, 'TYPE1'),\n",
       " (0.013842028572919354, 'TYPE2'),\n",
       " (0.009695150170483427, 'ABILITY_HIDDEN'),\n",
       " (0.004089200293681243, 'ABILITY2')]"
      ]
     },
     "execution_count": 12,
     "metadata": {},
     "output_type": "execute_result"
    }
   ],
   "source": [
    "#determine the importance of each X variable\n",
    "sorted(zip(rf.feature_importances_, X_train.columns), reverse=True)"
   ]
  },
  {
   "cell_type": "code",
   "execution_count": 13,
   "metadata": {},
   "outputs": [],
   "source": [
    "# Make predictions with the model\n",
    "predictions_1 = rf.predict(X_test_1)\n",
    "predictions_2 = rf.predict(X_test_2)"
   ]
  },
  {
   "cell_type": "code",
   "execution_count": 14,
   "metadata": {},
   "outputs": [
    {
     "name": "stdout",
     "output_type": "stream",
     "text": [
      "Gen 7 r2  -0.3563218390804599\n",
      "Gen 8 r2  -0.19387755102040827\n"
     ]
    }
   ],
   "source": [
    "#calculate r2\n",
    "from sklearn.metrics import r2_score\n",
    "\n",
    "gen_7_r2 = r2_score(y_test_1, predictions_1)\n",
    "gen_8_r2 = r2_score(y_test_2, predictions_2)\n",
    "\n",
    "print('Gen 7 r2 ', gen_7_r2)\n",
    "print('Gen 8 r2 ', gen_8_r2)"
   ]
  },
  {
   "cell_type": "code",
   "execution_count": 15,
   "metadata": {},
   "outputs": [
    {
     "data": {
      "text/html": [
       "<div>\n",
       "<style scoped>\n",
       "    .dataframe tbody tr th:only-of-type {\n",
       "        vertical-align: middle;\n",
       "    }\n",
       "\n",
       "    .dataframe tbody tr th {\n",
       "        vertical-align: top;\n",
       "    }\n",
       "\n",
       "    .dataframe thead th {\n",
       "        text-align: right;\n",
       "    }\n",
       "</style>\n",
       "<table border=\"1\" class=\"dataframe\">\n",
       "  <thead>\n",
       "    <tr style=\"text-align: right;\">\n",
       "      <th></th>\n",
       "      <th>Generation</th>\n",
       "      <th>Accuracy</th>\n",
       "      <th>R2</th>\n",
       "    </tr>\n",
       "  </thead>\n",
       "  <tbody>\n",
       "    <tr>\n",
       "      <th>0</th>\n",
       "      <td>Gen 7</td>\n",
       "      <td>0.737288</td>\n",
       "      <td>-0.356322</td>\n",
       "    </tr>\n",
       "    <tr>\n",
       "      <th>1</th>\n",
       "      <td>Gen 8</td>\n",
       "      <td>0.837607</td>\n",
       "      <td>-0.193878</td>\n",
       "    </tr>\n",
       "  </tbody>\n",
       "</table>\n",
       "</div>"
      ],
      "text/plain": [
       "  Generation  Accuracy        R2\n",
       "0      Gen 7  0.737288 -0.356322\n",
       "1      Gen 8  0.837607 -0.193878"
      ]
     },
     "execution_count": 15,
     "metadata": {},
     "output_type": "execute_result"
    }
   ],
   "source": [
    "random_forest_results = pd.DataFrame({'Generation': ['Gen 7', 'Gen 8'],\n",
    "                           'Accuracy': [gen_7_score, gen_8_score],\n",
    "                           'R2': [gen_7_r2, gen_8_r2]})\n",
    "random_forest_results"
   ]
  },
  {
   "cell_type": "code",
   "execution_count": 16,
   "metadata": {},
   "outputs": [],
   "source": [
    "#convert results to sql table\n",
    "random_forest_results.to_sql('random_forest_results', conn, index=False)"
   ]
  },
  {
   "cell_type": "code",
   "execution_count": 17,
   "metadata": {},
   "outputs": [],
   "source": [
    "#close the db connection\n",
    "conn.close()"
   ]
  }
 ],
 "metadata": {
  "kernelspec": {
   "display_name": "Python 3",
   "language": "python",
   "name": "python3"
  },
  "language_info": {
   "codemirror_mode": {
    "name": "ipython",
    "version": 3
   },
   "file_extension": ".py",
   "mimetype": "text/x-python",
   "name": "python",
   "nbconvert_exporter": "python",
   "pygments_lexer": "ipython3",
   "version": "3.8.5"
  }
 },
 "nbformat": 4,
 "nbformat_minor": 4
}
